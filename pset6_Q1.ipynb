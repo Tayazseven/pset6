{
 "cells": [
  {
   "cell_type": "code",
   "execution_count": 58,
   "metadata": {
    "collapsed": false
   },
   "outputs": [],
   "source": [
    "import gffutils as gfu\n"
   ]
  },
  {
   "cell_type": "code",
   "execution_count": 5,
   "metadata": {
    "collapsed": false
   },
   "outputs": [],
   "source": [
    "datbase = gfu.create_db('saccharomyces_cerevisiae.gff', dbfn='sacc.db')"
   ]
  },
  {
   "cell_type": "code",
   "execution_count": 8,
   "metadata": {
    "collapsed": false
   },
   "outputs": [],
   "source": [
    "feature_type = [x for x in datbase.featuretypes()] #for the step 3, cheking the feature types in \"saccharomyces_cerevisiae\"\n",
    "#print feature_type"
   ]
  },
  {
   "cell_type": "code",
   "execution_count": 50,
   "metadata": {
    "collapsed": false
   },
   "outputs": [],
   "source": [
    "tot_gene = []\n",
    "introns = []\n",
    "for gene in datbase.iter_by_parent_childs(featuretype = 'mRNA'):\n",
    "    tot_gene.append(gene[0].attributes['Name'][0])\n",
    "    g_name = gene[0].attributes['Name'][0]\n",
    "    for child in gene:\n",
    "        if child.featuretype == 'intron':\n",
    "            introns.append(g_name)\n"
   ]
  },
  {
   "cell_type": "code",
   "execution_count": 59,
   "metadata": {
    "collapsed": true
   },
   "outputs": [
    {
     "name": "stdout",
     "output_type": "stream",
     "text": [
      "314 / 6600 the fraction of introns over total number of genes.\n",
      "['YAL030W_mRNA', 'YAL003W_mRNA', 'YAL001C_mRNA', 'YBL111C_mRNA', 'YBL091C-A_mRNA', 'YBL087C_mRNA', 'YBL059C-A_mRNA', 'YBL059W_mRNA', 'YBL050W_mRNA', 'YBL040C_mRNA', 'YBL027W_mRNA', 'YBL026W_mRNA', 'YBL018C_mRNA', 'YBR048W_mRNA', 'YBR062C_mRNA', 'YBR078W_mRNA', 'YBR082C_mRNA', 'YBR084C-A_mRNA', 'YBR090C_mRNA', 'YBR111W-A_mRNA', 'YBR111W-A_mRNA', 'YBR119W_mRNA', 'YBR181C_mRNA', 'YBR186W_mRNA', 'YBR189W_mRNA', 'YBR191W_mRNA', 'YBR215W_mRNA', 'YBR219C_mRNA', 'YBR230C_mRNA', 'YBR255C-A_mRNA', 'YCL012C_mRNA', 'YCL005W-A_mRNA', 'YCL005W-A_mRNA', 'YCL002C_mRNA', 'YCR028C-A_mRNA', 'YCR031C_mRNA', 'YCR097W_mRNA', 'YCR097W_mRNA', 'YDL219W_mRNA', 'YDL191W_mRNA', 'YDL136W_mRNA', 'YDL130W_mRNA', 'YDL125C_mRNA', 'YDL115C_mRNA', 'YDL108W_mRNA', 'YDL083C_mRNA', 'YDL082W_mRNA', 'YDL079C_mRNA', 'YDL075W_mRNA', 'YDL064W_mRNA', 'YDL029W_mRNA', 'YDL012C_mRNA', 'YDR005C_mRNA', 'YDR025W_mRNA', 'YDR059C_mRNA', 'YDR064W_mRNA', 'YDR092W_mRNA', 'YDR129C_mRNA', 'YDR139C_mRNA', 'YDR305C_mRNA', 'YDR318W_mRNA', 'YDR367W_mRNA', 'YDR381W_mRNA', 'YDR381C-A_mRNA', 'YDR397C_mRNA', 'YDR424C_mRNA', 'YDR424C_mRNA', 'YDR447C_mRNA', 'YDR450W_mRNA', 'YDR471W_mRNA', 'YDR500C_mRNA', 'YDR535C_mRNA', 'YEL076C-A_mRNA', 'YEL012W_mRNA', 'YEL003W_mRNA', 'YER003C_mRNA', 'YER007C-A_mRNA', 'YER014C-A_mRNA', 'YER044C-A_mRNA', 'YER056C-A_mRNA', 'YER074W_mRNA', 'YER074W-A_mRNA', 'YER074W-A_mRNA', 'YER093C-A_mRNA', 'YER117W_mRNA', 'YER133W_mRNA', 'YER179W_mRNA', 'YFL039C_mRNA', 'YFL034C-B_mRNA', 'YFL034C-A_mRNA', 'YFL031W_mRNA', 'YFR024C-A_mRNA', 'YFR031C-A_mRNA', 'YFR045W_mRNA', 'YGL251C_mRNA', 'YGL232W_mRNA', 'YGL226C-A_mRNA', 'YGL183C_mRNA', 'YGL178W_mRNA', 'YGL137W_mRNA', 'YGL103W_mRNA', 'YGL087C_mRNA', 'YGL076C_mRNA', 'YGL076C_mRNA', 'YGL033W_mRNA', 'YGL033W_mRNA', 'YGL030W_mRNA', 'YGR001C_mRNA', 'YGR001C_mRNA', 'YGR029W_mRNA', 'YGR034W_mRNA', 'YGR118W_mRNA', 'YGR183C_mRNA', 'YGR214W_mRNA', 'YGR225W_mRNA', 'YGR296W_mRNA', 'YHL050C_mRNA', 'YHL001W_mRNA', 'YHR001W-A_mRNA', 'YHR010W_mRNA', 'YHR012W_mRNA', 'YHR016C_mRNA', 'YHR021C_mRNA', 'YHR039C-A_mRNA', 'YHR041C_mRNA', 'YHR076W_mRNA', 'YHR077C_mRNA', 'YHR079C-A_mRNA', 'YHR097C_mRNA', 'YHR101C_mRNA', 'YHR123W_mRNA', 'YHR141C_mRNA', 'YHR199C-A_mRNA', 'YHR203C_mRNA', 'YHR218W_mRNA', 'YIL177C_mRNA', 'YIL156W-B_mRNA', 'YIL148W_mRNA', 'YIL133C_mRNA', 'YIL111W_mRNA', 'YIL106W_mRNA', 'YIL073C_mRNA', 'YIL069C_mRNA', 'YIL052C_mRNA', 'YIL018W_mRNA', 'YIL004C_mRNA', 'YJL225C_mRNA', 'YJL205C_mRNA', 'YJL191W_mRNA', 'YJL189W_mRNA', 'YJL177W_mRNA', 'YJL136C_mRNA', 'YJL041W_mRNA', 'YJL031C_mRNA', 'YJL024C_mRNA', 'YJL001W_mRNA', 'YJR021C_mRNA', 'YJR079W_mRNA', 'YJR094W-A_mRNA', 'YJR112W-A_mRNA', 'YJR145C_mRNA', 'YKL190W_mRNA', 'YKL180W_mRNA', 'YKL157W_mRNA', 'YKL156W_mRNA', 'YKL081W_mRNA', 'YKL006C-A_mRNA', 'YKL006W_mRNA', 'YKL002W_mRNA', 'YKR004C_mRNA', 'YKR005C_mRNA', 'YKR057W_mRNA', 'YKR094C_mRNA', 'YKR095W-A_mRNA', 'YLL067C_mRNA', 'YLL066C_mRNA', 'YLL050C_mRNA', 'YLR048W_mRNA', 'YLR054C_mRNA', 'YLR061W_mRNA', 'YLR078C_mRNA', 'YLR093C_mRNA', 'YLR128W_mRNA', 'YLR185W_mRNA', 'YLR199C_mRNA', 'YLR202C_mRNA', 'YLR211C_mRNA', 'YLR275W_mRNA', 'YLR287C-A_mRNA', 'YLR306W_mRNA', 'YLR316C_mRNA', 'YLR316C_mRNA', 'YLR329W_mRNA', 'YLR344W_mRNA', 'YLR367W_mRNA', 'YLR406C_mRNA', 'YLR426W_mRNA', 'YLR445W_mRNA', 'YLR448W_mRNA', 'YLR464W_mRNA', 'YML133C_mRNA', 'YML124C_mRNA', 'YML094W_mRNA', 'YML085C_mRNA', 'YML073C_mRNA', 'YML067C_mRNA', 'YML056C_mRNA', 'YML036W_mRNA', 'YML034W_mRNA', 'YML026C_mRNA', 'YML025C_mRNA', 'YML024W_mRNA', 'YML017W_mRNA', 'YMR033W_mRNA', 'YMR079W_mRNA', 'YMR116C_mRNA', 'YMR125W_mRNA', 'YMR133W_mRNA', 'YMR142C_mRNA', 'YMR143W_mRNA', 'YMR194W_mRNA', 'YMR194C-B_mRNA', 'YMR201C_mRNA', 'YMR225C_mRNA', 'YMR230W_mRNA', 'YMR242C_mRNA', 'YMR292W_mRNA', 'YNL339C_mRNA', 'YNL312W_mRNA', 'YNL302C_mRNA', 'YNL301C_mRNA', 'YNL265C_mRNA', 'YNL246W_mRNA', 'YNL162W_mRNA', 'YNL147W_mRNA', 'YNL138W-A_mRNA', 'YNL130C_mRNA', 'YNL112W_mRNA', 'YNL096C_mRNA', 'YNL069C_mRNA', 'YNL050C_mRNA', 'YNL044W_mRNA', 'YNL038W_mRNA', 'YNL012W_mRNA', 'YNL004W_mRNA', 'YNR053C_mRNA', 'YOL127W_mRNA', 'YOL121C_mRNA', 'YOL120C_mRNA', 'YOL048C_mRNA', 'YOL047C_mRNA', 'YOR096W_mRNA', 'YOR122C_mRNA', 'YOR182C_mRNA', 'YOR234C_mRNA', 'YOR293W_mRNA', 'YOR312C_mRNA', 'YOR318C_mRNA', 'YPL283C_mRNA', 'YPL249C-A_mRNA', 'YPL241C_mRNA', 'YPL218W_mRNA', 'YPL198W_mRNA', 'YPL198W_mRNA', 'YPL175W_mRNA', 'YPL143W_mRNA', 'YPL129W_mRNA', 'YPL109C_mRNA', 'YPL090C_mRNA', 'YPL081W_mRNA', 'YPL079W_mRNA', 'YPL075W_mRNA', 'YPL031C_mRNA', 'YPR010C-A_mRNA', 'YPR028W_mRNA', 'YPR043W_mRNA', 'YPR063C_mRNA', 'YPR098C_mRNA', 'YPR132W_mRNA', 'YPR153W_mRNA', 'YPR170W-B_mRNA', 'YPR187W_mRNA', 'YPR202W_mRNA', 'Q0055_mRNA', 'Q0060_mRNA', 'Q0060_mRNA', 'Q0065_mRNA', 'Q0065_mRNA', 'Q0065_mRNA', 'Q0070_mRNA', 'Q0070_mRNA', 'Q0070_mRNA', 'Q0070_mRNA', 'Q0045_mRNA', 'Q0045_mRNA', 'Q0045_mRNA', 'Q0045_mRNA', 'Q0045_mRNA', 'Q0045_mRNA', 'Q0045_mRNA', 'Q0075_mRNA', 'Q0110_mRNA', 'Q0115_mRNA', 'Q0115_mRNA', 'Q0120_mRNA', 'Q0120_mRNA', 'Q0120_mRNA', 'Q0105_mRNA', 'Q0105_mRNA', 'Q0105_mRNA', 'Q0105_mRNA', 'Q0105_mRNA', 'Q0255_mRNA', 'Q0255_mRNA']\n"
     ]
    }
   ],
   "source": [
    "print '{} / {} the fraction of introns over total number of genes.'.format(len(introns), len(tot_gene))\n",
    "print introns"
   ]
  },
  {
   "cell_type": "code",
   "execution_count": 78,
   "metadata": {
    "collapsed": false
   },
   "outputs": [],
   "source": [
    "f = open('cds_length.txt', 'w')\n",
    "for gene in datbase.iter_by_parent_childs(featuretype = 'mRNA'):\n",
    "    g_name = gene[0].attributes['Name'][0]\n",
    "    for child in gene:\n",
    "        if child.featuretype == 'CDS':\n",
    "            f.write ('%s %d' % (str(g_name), len(g_name)) + '\\n') #Writing to a file where the first column is gene name second one is the length"
   ]
  },
  {
   "cell_type": "code",
   "execution_count": null,
   "metadata": {
    "collapsed": true
   },
   "outputs": [],
   "source": []
  }
 ],
 "metadata": {
  "kernelspec": {
   "display_name": "Python 2",
   "language": "python",
   "name": "python2"
  },
  "language_info": {
   "codemirror_mode": {
    "name": "ipython",
    "version": 2
   },
   "file_extension": ".py",
   "mimetype": "text/x-python",
   "name": "python",
   "nbconvert_exporter": "python",
   "pygments_lexer": "ipython2",
   "version": "2.7.13"
  }
 },
 "nbformat": 4,
 "nbformat_minor": 2
}
